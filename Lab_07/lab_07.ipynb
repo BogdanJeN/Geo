{
 "cells": [
  {
   "cell_type": "code",
   "execution_count": 3,
   "metadata": {},
   "outputs": [],
   "source": [
    "import numpy as np\n",
    "import rasterio as rastr\n",
    "import matplotlib.pyplot as plt\n",
    "from osgeo import gdal\n",
    "from osgeo import ogr\n",
    "from osgeo import osr\n",
    "from osgeo import gdal_array\n",
    "from osgeo import gdalconst\n",
    "from osgeo import gdal"
   ]
  },
  {
   "cell_type": "code",
   "execution_count": 7,
   "metadata": {},
   "outputs": [],
   "source": [
    "import json\n",
    "\n",
    "# Load the GeoJSON dataset\n",
    "with open('../Lab_07/spatial_data/field_polygons.geojson', 'r') as f:\n",
    "    data = json.load(f)\n",
    "\n",
    "# Transform the \"Name\" property\n",
    "for feature in data['features']:\n",
    "    index = feature['properties']['id'] - 1  # Subtract 1 to convert 1-based index to 0-based index\n",
    "    name = feature['properties']['Name']\n",
    "    feature['properties']['Name'] = f'{name}_{index}'\n",
    "\n",
    "# Save the updated GeoJSON dataset\n",
    "with open('fields_updated.geojson', 'w') as f:\n",
    "    json.dump(data, f)\n"
   ]
  },
  {
   "cell_type": "code",
   "execution_count": 14,
   "metadata": {},
   "outputs": [
    {
     "name": "stdout",
     "output_type": "stream",
     "text": [
      "Number of files with .tif extension: 68\n"
     ]
    }
   ],
   "source": [
    "import glob\n",
    "\n",
    "# Specify the folder path and the search pattern for *.tif files\n",
    "folder_path = '../Lab_07/spatial_data/'  # change to your data folder path\n",
    "pattern = '**/*.tif'\n",
    "\n",
    "# Use glob.glob() with recursive=True to find files that match the pattern in all subdirectories\n",
    "files = glob.glob(f'{folder_path}/{pattern}', recursive=True)\n",
    "\n",
    "# Output the number of found files\n",
    "print(f'Number of files with .tif extension: {len(files)}')\n"
   ]
  },
  {
   "attachments": {},
   "cell_type": "markdown",
   "metadata": {},
   "source": [
    "Create \"resampled\" directory"
   ]
  },
  {
   "cell_type": "code",
   "execution_count": 15,
   "metadata": {},
   "outputs": [],
   "source": [
    "import os\n",
    "import geopandas as gpd\n",
    "\n",
    "# Read file fields_updated.geojson\n",
    "fields = gpd.read_file(\"../Lab_07/fields_updated.geojson\")\n",
    "\n",
    "name_column = fields[\"Name\"]\n",
    "\n",
    "# Create directory \"resampled\"\n",
    "os.makedirs(\"resampled\", exist_ok=True)\n",
    "\n",
    "# We cycle through each entry in the \"Name\" column and create directories in resampled\n",
    "for name in name_column:\n",
    "    entry_dir = os.path.join(\"resampled\", name)\n",
    "    os.makedirs(entry_dir, exist_ok=True)\n"
   ]
  },
  {
   "cell_type": "code",
   "execution_count": 22,
   "metadata": {},
   "outputs": [],
   "source": [
    "import os\n",
    "import geopandas as gpd\n",
    "import rasterio as rastr\n",
    "from rasterio.features import geometry_mask\n",
    "from rasterio import mask as msk\n",
    "\n",
    "# Read file field_polygons\n",
    "fields = gpd.read_file(\"../Lab_07/fields_updated.geojson\")\n",
    "\n",
    "# Read file spatial_data\n",
    "spatial_data = rastr.open(\"../Lab_07/spatial_data/201504022343_179D/29.566633136000007_49.434589403000004_31.185382877000006_50.486672568.tif\")\n",
    "\n",
    "\n",
    "for index, row in fields.iterrows():\n",
    "    name = row[\"Name\"] # Take name field\n",
    "    geom = row[\"geometry\"] # Take field geometry\n",
    "    \n",
    "    entry_dir = os.path.join(\"resampled\", name)\n",
    "    \n",
    "    data, transform = rastr.mask.mask(spatial_data, [geom], crop=True)\n",
    "    \n",
    "    meta = spatial_data.meta.copy()\n",
    "    \n",
    "    # We update the metadata according to the extracted geometry\n",
    "    meta.update({\"driver\": \"GTiff\",\n",
    "                 \"height\": data.shape[1],\n",
    "                 \"width\": data.shape[2],\n",
    "                 \"transform\": transform})\n",
    "    \n",
    "    # Create the corresponding directory if it does not exist\n",
    "    os.makedirs(entry_dir, exist_ok=True)\n",
    "    \n",
    "    # Write the raster file to the directory\n",
    "    with rastr.open(os.path.join(entry_dir, \"example.tif\"), \"w\", **meta) as dst:\n",
    "        dst.write(data)\n"
   ]
  }
 ],
 "metadata": {
  "kernelspec": {
   "display_name": "Python 3",
   "language": "python",
   "name": "python3"
  },
  "language_info": {
   "codemirror_mode": {
    "name": "ipython",
    "version": 3
   },
   "file_extension": ".py",
   "mimetype": "text/x-python",
   "name": "python",
   "nbconvert_exporter": "python",
   "pygments_lexer": "ipython3",
   "version": "3.10.6"
  },
  "orig_nbformat": 4
 },
 "nbformat": 4,
 "nbformat_minor": 2
}
